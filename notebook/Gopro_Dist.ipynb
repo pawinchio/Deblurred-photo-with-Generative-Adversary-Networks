{
 "cells": [
  {
   "cell_type": "code",
   "execution_count": 7,
   "metadata": {},
   "outputs": [],
   "source": [
    "import os\n",
    "from shutil import copyfile\n",
    "\n",
    "import click\n",
    "import tqdm\n",
    "\n",
    "def reorganize_gopro_files(dir_in, dir_out):\n",
    "    if not os.path.exists(dir_out):\n",
    "        os.makedirs(dir_out)\n",
    "\n",
    "    for folder_train_test in tqdm.tqdm(os.listdir(dir_in), desc='dir'):\n",
    "        output_directory = os.path.join(dir_out, folder_train_test)\n",
    "        output_directory_A = os.path.join(output_directory, 'A')\n",
    "        output_directory_B = os.path.join(output_directory, 'B')\n",
    "        if not os.path.exists(output_directory):\n",
    "            os.makedirs(output_directory)\n",
    "        if not os.path.exists(output_directory_A):\n",
    "            os.makedirs(output_directory_A)\n",
    "        if not os.path.exists(output_directory_B):\n",
    "            os.makedirs(output_directory_B)\n",
    "\n",
    "        current_folder_path = os.path.join(dir_in, folder_train_test)\n",
    "        for image_folder in tqdm.tqdm(os.listdir(current_folder_path), desc='image_folders'):\n",
    "\n",
    "            current_sub_folder_path = os.path.join(current_folder_path, image_folder)\n",
    "\n",
    "            for image_blurred in os.listdir(os.path.join(current_sub_folder_path, 'blur')):\n",
    "                current_image_blurred_path = os.path.join(current_sub_folder_path, 'blur', image_blurred)\n",
    "                output_image_blurred_path = os.path.join(output_directory_A, image_folder + \"_\" + image_blurred)\n",
    "                copyfile(current_image_blurred_path, output_image_blurred_path)\n",
    "\n",
    "            for image_sharp in os.listdir(os.path.join(current_sub_folder_path, 'sharp')):\n",
    "                current_image_sharp_path = os.path.join(current_sub_folder_path, 'sharp', image_sharp)\n",
    "                output_image_sharp_path = os.path.join(output_directory_B, image_folder + \"_\" + image_sharp)\n",
    "                copyfile(current_image_sharp_path, output_image_sharp_path)\n"
   ]
  },
  {
   "cell_type": "code",
   "execution_count": 9,
   "metadata": {},
   "outputs": [
    {
     "name": "stderr",
     "output_type": "stream",
     "text": [
      "dir:   0%|                                                                                       | 0/2 [00:00<?, ?it/s]\n",
      "image_folders:   0%|                                                                            | 0/11 [00:00<?, ?it/s]\n",
      "image_folders:   9%|██████▏                                                             | 1/11 [00:29<04:50, 29.04s/it]\n",
      "image_folders:  18%|████████████▎                                                       | 2/11 [00:58<04:22, 29.16s/it]\n",
      "image_folders:  27%|██████████████████▌                                                 | 3/11 [01:24<03:45, 28.21s/it]\n",
      "image_folders:  36%|████████████████████████▋                                           | 4/11 [01:59<03:31, 30.15s/it]\n",
      "image_folders:  45%|██████████████████████████████▉                                     | 5/11 [02:32<03:07, 31.20s/it]\n",
      "image_folders:  55%|█████████████████████████████████████                               | 6/11 [02:59<02:29, 29.97s/it]\n",
      "image_folders:  64%|███████████████████████████████████████████▎                        | 7/11 [03:24<01:53, 28.40s/it]\n",
      "image_folders:  73%|█████████████████████████████████████████████████▍                  | 8/11 [03:51<01:23, 27.96s/it]\n",
      "image_folders:  82%|███████████████████████████████████████████████████████▋            | 9/11 [04:15<00:53, 26.73s/it]\n",
      "image_folders:  91%|████████████████████████████████████████████████████████████▉      | 10/11 [04:38<00:25, 25.64s/it]\n",
      "image_folders: 100%|███████████████████████████████████████████████████████████████████| 11/11 [04:56<00:00, 23.45s/it]\n",
      "dir:  50%|███████████████████████████████████████                                       | 1/2 [04:56<04:56, 296.94s/it]\n",
      "image_folders:   0%|                                                                            | 0/22 [00:00<?, ?it/s]\n",
      "image_folders:   5%|███                                                                 | 1/22 [00:24<08:35, 24.56s/it]\n",
      "image_folders:   9%|██████▏                                                             | 2/22 [00:39<07:10, 21.53s/it]\n",
      "image_folders:  14%|█████████▎                                                          | 3/22 [01:17<08:25, 26.61s/it]\n",
      "image_folders:  18%|████████████▎                                                       | 4/22 [01:42<07:48, 26.05s/it]\n",
      "image_folders:  23%|███████████████▍                                                    | 5/22 [02:07<07:21, 25.96s/it]\n",
      "image_folders:  27%|██████████████████▌                                                 | 6/22 [02:20<05:49, 21.83s/it]\n",
      "image_folders:  32%|█████████████████████▋                                              | 7/22 [02:41<05:26, 21.75s/it]\n",
      "image_folders:  36%|████████████████████████▋                                           | 8/22 [03:00<04:50, 20.74s/it]\n",
      "image_folders:  41%|███████████████████████████▊                                        | 9/22 [03:09<03:44, 17.30s/it]\n",
      "image_folders:  45%|██████████████████████████████▍                                    | 10/22 [03:27<03:28, 17.41s/it]\n",
      "image_folders:  50%|█████████████████████████████████▌                                 | 11/22 [03:46<03:17, 17.93s/it]\n",
      "image_folders:  55%|████████████████████████████████████▌                              | 12/22 [04:05<03:04, 18.46s/it]\n",
      "image_folders:  59%|███████████████████████████████████████▌                           | 13/22 [04:27<02:53, 19.31s/it]\n",
      "image_folders:  64%|██████████████████████████████████████████▋                        | 14/22 [04:46<02:33, 19.23s/it]\n",
      "image_folders:  68%|█████████████████████████████████████████████▋                     | 15/22 [05:02<02:09, 18.46s/it]\n",
      "image_folders:  73%|████████████████████████████████████████████████▋                  | 16/22 [05:15<01:39, 16.60s/it]\n",
      "image_folders:  77%|███████████████████████████████████████████████████▊               | 17/22 [05:34<01:26, 17.40s/it]\n",
      "image_folders:  82%|██████████████████████████████████████████████████████▊            | 18/22 [05:55<01:14, 18.59s/it]\n",
      "image_folders:  86%|█████████████████████████████████████████████████████████▊         | 19/22 [06:11<00:52, 17.57s/it]\n",
      "image_folders:  91%|████████████████████████████████████████████████████████████▉      | 20/22 [06:25<00:33, 16.79s/it]\n",
      "image_folders:  95%|███████████████████████████████████████████████████████████████▉   | 21/22 [06:36<00:15, 15.04s/it]\n",
      "image_folders: 100%|███████████████████████████████████████████████████████████████████| 22/22 [06:53<00:00, 15.54s/it]\n",
      "dir: 100%|██████████████████████████████████████████████████████████████████████████████| 2/2 [11:50<00:00, 331.97s/it]\n"
     ]
    }
   ],
   "source": [
    "reorganize_gopro_files('./GOPRO_Large','./GoproAB')"
   ]
  },
  {
   "cell_type": "code",
   "execution_count": null,
   "metadata": {},
   "outputs": [],
   "source": []
  }
 ],
 "metadata": {
  "kernelspec": {
   "display_name": "Python 3",
   "language": "python",
   "name": "python3"
  },
  "language_info": {
   "codemirror_mode": {
    "name": "ipython",
    "version": 3
   },
   "file_extension": ".py",
   "mimetype": "text/x-python",
   "name": "python",
   "nbconvert_exporter": "python",
   "pygments_lexer": "ipython3",
   "version": "3.6.1"
  }
 },
 "nbformat": 4,
 "nbformat_minor": 2
}
